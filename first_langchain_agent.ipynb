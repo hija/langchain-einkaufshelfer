{
 "cells": [
  {
   "cell_type": "code",
   "execution_count": 136,
   "metadata": {},
   "outputs": [],
   "source": [
    "from langchain.document_loaders import PyPDFLoader\n",
    "from langchain.chat_models import ChatOpenAI\n",
    "from langchain import PromptTemplate\n",
    "from langchain import LLMChain\n",
    "from langchain.output_parsers.list import CommaSeparatedListOutputParser\n",
    "import re"
   ]
  },
  {
   "cell_type": "code",
   "execution_count": 137,
   "metadata": {},
   "outputs": [],
   "source": [
    "from typing import List\n",
    "from pydantic import BaseModel\n",
    "\n",
    "class Item(BaseModel):\n",
    "    artikel_id: int\n",
    "    artikel_name: str\n",
    "    anzahl: str\n",
    "    preis_pro_menge: str\n",
    "    gesamtpreis: str\n",
    "    herkunft: str\n",
    "\n",
    "class ParsedDocument(BaseModel):\n",
    "    items: List[Item]"
   ]
  },
  {
   "cell_type": "code",
   "execution_count": 138,
   "metadata": {},
   "outputs": [],
   "source": [
    "CONVERT_TO_CSV_TEMPLATE = \"\"\"\n",
    "Du bist ein Bot, der aus einer Einkaufsliste ein strukturiertes CSV macht.\n",
    "\n",
    "Das CSV besteht aus unterschiedlichen Spalten:\n",
    "\n",
    "* artikel_id\n",
    "* artikel_name\n",
    "* anzahl\n",
    "* preis_pro_menge\n",
    "* gesamtpreis\n",
    "* herkunft\n",
    "\n",
    "Außer items darf das CSV keine weiteren Elemente haben.\n",
    "Es ist wichtig, dass jede gültige Position der Eingabe verarbeitet wird.\n",
    "Wenn die Position nicht gültig ist, darf sie nicht in das CSV Resultat einfließen.\n",
    "Gib das CSV Resultat so kompakt wie möglich aus. Verwende keine unnötigen Leerzeichen oder Zeilenumbrüche.\n",
    "\n",
    "Ein Beispiel aus 11100 0,2kg * 0,192 kg zu 2,58 € = 0,50 € 160    Deutschland, Bioland Möhren wird\n",
    "\n",
    "```csv\n",
    "11100, \"Möhren\", \"0,192kg\", 2.58, 0.50, \"Deutschland\"\n",
    "```\n",
    "\n",
    "Du bekommst den den Input mit ### separiert.\n",
    "\n",
    "Input: ###{PDF_INPUT}###\n",
    "Output:\n",
    "\"\"\""
   ]
  },
  {
   "cell_type": "code",
   "execution_count": 149,
   "metadata": {},
   "outputs": [],
   "source": [
    "loader = PyPDFLoader('attachments/Lieferschein798218.pdf')"
   ]
  },
  {
   "cell_type": "code",
   "execution_count": 150,
   "metadata": {},
   "outputs": [],
   "source": [
    "fulltext = \"\"\n",
    "for document in loader.load():\n",
    "    fulltext += document.page_content\n",
    "\n",
    "fulltext_splits = fulltext.split('\\n')\n",
    "\n",
    "header_start_index = None\n",
    "header_end_index = None\n",
    "\n",
    "for i, element in enumerate(fulltext_splits):\n",
    "    if 'DE-71665Biohof Braun GbRFirma' in element.strip() and header_start_index is None:\n",
    "        header_start_index = i\n",
    "    if 'Steuernummer: ' in element.strip() and header_end_index is None:\n",
    "        header_end_index = i\n",
    "\n",
    "while (header_end_index is not None and header_start_index is not None):\n",
    "    fulltext_splits = [fulltext_element for i, fulltext_element in enumerate(fulltext_splits) if i < header_start_index or i > header_end_index]\n",
    "    header_start_index = None\n",
    "    header_end_index = None\n",
    "    for i, element in enumerate(fulltext_splits):\n",
    "        if 'DE-71665Biohof Braun GbRFirma' in element.strip() and header_start_index is None:\n",
    "            header_start_index = i\n",
    "        if 'Steuernummer: ' in element.strip() and header_end_index is None:\n",
    "            header_end_index = i"
   ]
  },
  {
   "cell_type": "code",
   "execution_count": 151,
   "metadata": {},
   "outputs": [],
   "source": [
    "prompt = PromptTemplate(template=CONVERT_TO_CSV_TEMPLATE,\n",
    "                        input_variables=[\"PDF_INPUT\"])\n",
    "llm = ChatOpenAI(model_name='gpt-3.5-turbo-0301', temperature=0)\n",
    "output_parser=CommaSeparatedListOutputParser()#(pydantic_object=ParsedDocument)\n",
    "\n",
    "llm_chain = LLMChain(prompt=prompt, llm=llm, verbose=True)#, output_parser=output_parser)\n"
   ]
  },
  {
   "cell_type": "code",
   "execution_count": 152,
   "metadata": {},
   "outputs": [
    {
     "name": "stdout",
     "output_type": "stream",
     "text": [
      "DE-ÖKO-006 Falls nicht anders vermerkt handelt es sich um Bio-Ware HK II.\n",
      "\"aus der Umstellung\" bedeutet, dass es sich um ein Erzeugnis aus der Umstellung auf den ökologischen Landbau handelt.\n",
      "Gilt nur für Lebensmittel\n",
      "Hauptbestellte Menge gelieferte Menge\n",
      "11100 0,3kg * 0,310 kg zu 2,40 € = 0,74 € 160    Spanien, EG-Bio Möhren\n",
      "11450 0,6kg * 0,654 kg zu 3,55 € = 2,32 € 160    Spanien, EG-Bio Auberginen\n",
      "11720 0,6kg * 0,744 kg zu 4,69 € = 3,49 € 160    Spanien, EG-Bio Zucchini\n",
      "11434 0,6kg * 0,588 kg zu 4,09 € = 2,40 € 160    Spanien, EG-Bio Landgurken\n",
      "11405 0,7kg * 0,648 kg zu 4,35 € = 2,82 € 160    Italien, EG-Bio Cherry Tomaten\n",
      "11501 1Stück 1 Stück zu 1,76 € = 1,76 € 160    Eigener Anbau Biohof Braun \n",
      "BW, BiolandSchnittlauch\n",
      "12127 0,42kg * 0,366 kg zu 2,75 € = 1,01 € Net    Baden-Württemberg, \n",
      "Bioland aus der UmstellungApfel der Woche\n",
      "12310 0,28kg * 0,294 kg zu 3,09 € = 0,91 € Net    Ecuador, Naturland Bananen\n",
      "12101 0,32kg * 0,436 kg zu 4,55 € = 1,98 € Net    Argentinien, Demeter Birnen\n",
      "12320 0,48kg * 0,540 kg zu 3,29 € = 1,78 € Net    Äthiopien, Demeter Orangen\n",
      "12420 0,33kg * 0,380 kg zu 4,99 € = 1,90 € Net    Italien, EG-Bio Nektarinen gelb\n",
      "Erfasste Zwischensumme  Haupt : 21,11 € 21,11 €\n",
      "Käse Trockenbestellte Menge gelieferte Menge\n",
      "24100 1Stück 1 Stück zu 1,89 € = 1,89 € Net    \n",
      "Deutschland, \n",
      "EG-BioPumpernickel in der Folie 250g\n",
      "Erfasste Zwischensumme  Käse Trocken : 1,89 € 1,89 €\n",
      "Schnittkäse Packstelle bestellte Menge gelieferte Menge\n",
      "33696 1Stück 1 Stück zu 4,45 € = 4,45 € Net    Deutschland, EG-Bio Grillkäse mediterran\n",
      "Erfasste Zwischensumme  Schnittkäse Packstelle : 4,45 € 4,45 €\n",
      "Fleisch bestellte Menge gelieferte Menge\n",
      "39540 1Stück * 0,398 kg zu 19,95 € = 7,94 € Net    Baden-\n",
      "Württemberg, \n",
      "BiolandFeine weiße Bratwurst 2 Paar\n",
      "Erfasste Zwischensumme  Fleisch : 7,94 € 7,94 €\n",
      "23801 2Stück 2 Stück zu 1,37 € = 2,74 € Net    Baden-Württemberg, Bioland Oliven Seele\n",
      "25012 1Stück 1 Stück zu 2,73 € = 2,73 € Net    Baden-Württemberg, \n",
      "BiolandBaguette mit Zwiebeln\n",
      "26122 1Stück 1 Stück zu 2,05 € = 2,05 € Net    Baden-\n",
      "Württem\n",
      "BiolandMONATSSÜßES Blätte Schoko-Bana\n",
      "Erfasste Zwischensumme  Nachpack Fahrer : 7,52 € 7,52 €\n",
      "diverse Artikel bestellte Menge gelieferte Menge\n",
      "90902 1Stück 1 Stück zu -4,00 € = -4,00 € Pst Pfandbuchung\n",
      "Kistenpfand Stuttgart -1 x 4,00 €\n",
      "90902 1Stück 1 Stück zu -10,00 € = -10,00 € Pst Pfandbuchung\n",
      "Isokistenpfand -1 x 10,00 €\n",
      "Erfasste Zwischensumme  diverse Artikel  : -14,00 € -14,00 €\n",
      "* Messwerte aus frei programmierbarer Zusatzeinrichtung. Die geeichten Messwerte können eingesehen werden.Der gesamt erfasste Warenwert der Lieferung:   28,91 €\n",
      "Gesamtsumme 28,91 €\n",
      "Rechnungsinformationen dieser Lieferung\n",
      "Abgerechnet in dieser Rechnung -> Nr.: 687220 - 14.06.2021 - 28,91 €\n",
      "Mwst-Satz 7 % Nettosumme 40,10 €\n",
      "Mwst-Satz 19 % Nettosumme -11,76 €\n",
      "Der Betrag wird demnächst von ihrem Konto abgebucht 28,91 €\n",
      "Einzug erfolgt am 23.06.2021 .\n",
      "Unsere GläubigerID DE77ZZZ00000669532 Ihre MandatsID bei uns 01016232\n",
      "Ihr gesamter Kontostand aus Rechnungen bei uns -28,91 €\n",
      "2 Seite\n"
     ]
    }
   ],
   "source": [
    "print('\\n'.join(fulltext_splits))"
   ]
  },
  {
   "cell_type": "code",
   "execution_count": 153,
   "metadata": {},
   "outputs": [
    {
     "name": "stdout",
     "output_type": "stream",
     "text": [
      "\n",
      "\n",
      "\u001b[1m> Entering new LLMChain chain...\u001b[0m\n",
      "Prompt after formatting:\n",
      "\u001b[32;1m\u001b[1;3m\n",
      "Du bist ein Bot, der aus einer Einkaufsliste ein strukturiertes CSV macht.\n",
      "\n",
      "Das CSV besteht aus unterschiedlichen Spalten:\n",
      "\n",
      "* artikel_id\n",
      "* artikel_name\n",
      "* anzahl\n",
      "* preis_pro_menge\n",
      "* gesamtpreis\n",
      "* herkunft\n",
      "\n",
      "Außer items darf das CSV keine weiteren Elemente haben.\n",
      "Es ist wichtig, dass jede gültige Position der Eingabe verarbeitet wird.\n",
      "Wenn die Position nicht gültig ist, darf sie nicht in das CSV Resultat einfließen.\n",
      "Gib das CSV Resultat so kompakt wie möglich aus. Verwende keine unnötigen Leerzeichen oder Zeilenumbrüche.\n",
      "\n",
      "Ein Beispiel aus 11100 0,2kg * 0,192 kg zu 2,58 € = 0,50 € 160    Deutschland, Bioland Möhren wird\n",
      "\n",
      "```csv\n",
      "11100, \"Möhren\", \"0,192kg\", 2.58, 0.50, \"Deutschland\"\n",
      "```\n",
      "\n",
      "Du bekommst den den Input mit ### separiert.\n",
      "\n",
      "Input: ###DE-ÖKO-006 Falls nicht anders vermerkt handelt es sich um Bio-Ware HK II.\n",
      "\"aus der Umstellung\" bedeutet, dass es sich um ein Erzeugnis aus der Umstellung auf den ökologischen Landbau handelt.\n",
      "Gilt nur für Lebensmittel\n",
      "Hauptbestellte Menge gelieferte Menge\n",
      "11100 0,3kg * 0,310 kg zu 2,40 € = 0,74 € 160    Spanien, EG-Bio Möhren\n",
      "11450 0,6kg * 0,654 kg zu 3,55 € = 2,32 € 160    Spanien, EG-Bio Auberginen\n",
      "11720 0,6kg * 0,744 kg zu 4,69 € = 3,49 € 160    Spanien, EG-Bio Zucchini\n",
      "11434 0,6kg * 0,588 kg zu 4,09 € = 2,40 € 160    Spanien, EG-Bio Landgurken\n",
      "11405 0,7kg * 0,648 kg zu 4,35 € = 2,82 € 160    Italien, EG-Bio Cherry Tomaten\n",
      "11501 1Stück 1 Stück zu 1,76 € = 1,76 € 160    Eigener Anbau Biohof Braun \n",
      "BW, BiolandSchnittlauch\n",
      "12127 0,42kg * 0,366 kg zu 2,75 € = 1,01 € Net    Baden-Württemberg, \n",
      "Bioland aus der UmstellungApfel der Woche\n",
      "12310 0,28kg * 0,294 kg zu 3,09 € = 0,91 € Net    Ecuador, Naturland Bananen\n",
      "12101 0,32kg * 0,436 kg zu 4,55 € = 1,98 € Net    Argentinien, Demeter Birnen\n",
      "12320 0,48kg * 0,540 kg zu 3,29 € = 1,78 € Net    Äthiopien, Demeter Orangen\n",
      "12420 0,33kg * 0,380 kg zu 4,99 € = 1,90 € Net    Italien, EG-Bio Nektarinen gelb\n",
      "Erfasste Zwischensumme  Haupt : 21,11 € 21,11 €\n",
      "Käse Trockenbestellte Menge gelieferte Menge\n",
      "24100 1Stück 1 Stück zu 1,89 € = 1,89 € Net    \n",
      "Deutschland, \n",
      "EG-BioPumpernickel in der Folie 250g\n",
      "Erfasste Zwischensumme  Käse Trocken : 1,89 € 1,89 €\n",
      "Schnittkäse Packstelle bestellte Menge gelieferte Menge\n",
      "33696 1Stück 1 Stück zu 4,45 € = 4,45 € Net    Deutschland, EG-Bio Grillkäse mediterran\n",
      "Erfasste Zwischensumme  Schnittkäse Packstelle : 4,45 € 4,45 €\n",
      "Fleisch bestellte Menge gelieferte Menge\n",
      "39540 1Stück * 0,398 kg zu 19,95 € = 7,94 € Net    Baden-\n",
      "Württemberg, \n",
      "BiolandFeine weiße Bratwurst 2 Paar\n",
      "Erfasste Zwischensumme  Fleisch : 7,94 € 7,94 €\n",
      "23801 2Stück 2 Stück zu 1,37 € = 2,74 € Net    Baden-Württemberg, Bioland Oliven Seele\n",
      "25012 1Stück 1 Stück zu 2,73 € = 2,73 € Net    Baden-Württemberg, \n",
      "BiolandBaguette mit Zwiebeln\n",
      "26122 1Stück 1 Stück zu 2,05 € = 2,05 € Net    Baden-\n",
      "Württem\n",
      "BiolandMONATSSÜßES Blätte Schoko-Bana\n",
      "Erfasste Zwischensumme  Nachpack Fahrer : 7,52 € 7,52 €\n",
      "diverse Artikel bestellte Menge gelieferte Menge\n",
      "90902 1Stück 1 Stück zu -4,00 € = -4,00 € Pst Pfandbuchung\n",
      "Kistenpfand Stuttgart -1 x 4,00 €\n",
      "90902 1Stück 1 Stück zu -10,00 € = -10,00 € Pst Pfandbuchung\n",
      "Isokistenpfand -1 x 10,00 €\n",
      "Erfasste Zwischensumme  diverse Artikel  : -14,00 € -14,00 €\n",
      "* Messwerte aus frei programmierbarer Zusatzeinrichtung. Die geeichten Messwerte können eingesehen werden.Der gesamt erfasste Warenwert der Lieferung:   28,91 €\n",
      "Gesamtsumme 28,91 €\n",
      "Rechnungsinformationen dieser Lieferung\n",
      "Abgerechnet in dieser Rechnung -> Nr.: 687220 - 14.06.2021 - 28,91 €\n",
      "Mwst-Satz 7 % Nettosumme 40,10 €\n",
      "Mwst-Satz 19 % Nettosumme -11,76 €\n",
      "Der Betrag wird demnächst von ihrem Konto abgebucht 28,91 €\n",
      "Einzug erfolgt am 23.06.2021 .\n",
      "Unsere GläubigerID DE77ZZZ00000669532 Ihre MandatsID bei uns 01016232\n",
      "Ihr gesamter Kontostand aus Rechnungen bei uns -28,91 €\n",
      "2 Seite###\n",
      "Output:\n",
      "\u001b[0m\n",
      "\n",
      "\u001b[1m> Finished chain.\u001b[0m\n"
     ]
    }
   ],
   "source": [
    "result = llm_chain(inputs={'PDF_INPUT': '\\n'.join(fulltext_splits)})"
   ]
  },
  {
   "cell_type": "code",
   "execution_count": 154,
   "metadata": {},
   "outputs": [
    {
     "name": "stdout",
     "output_type": "stream",
     "text": [
      "11100,\"Möhren\",\"0,310kg\",2.40,0.74,\"Spanien\"\n",
      "11450,\"Auberginen\",\"0,654kg\",3.55,2.32,\"Spanien\"\n",
      "11720,\"Zucchini\",\"0,744kg\",4.69,3.49,\"Spanien\"\n",
      "11434,\"Landgurken\",\"0,588kg\",4.09,2.40,\"Spanien\"\n",
      "11405,\"Cherry Tomaten\",\"0,648kg\",4.35,2.82,\"Italien\"\n",
      "11501,\"Schnittlauch\",\"1Stück\",1.76,1.76,\"Eigener Anbau Biohof Braun BW\"\n",
      "12127,\"Apfel der Woche\",\"0,366kg\",2.75,1.01,\"Baden-Württemberg\"\n",
      "12310,\"Bananen\",\"0,294kg\",3.09,0.91,\"Ecuador\"\n",
      "12101,\"Birnen\",\"0,436kg\",4.55,1.98,\"Argentinien\"\n",
      "12320,\"Orangen\",\"0,540kg\",3.29,1.78,\"Äthiopien\"\n",
      "12420,\"Nektarinen gelb\",\"0,380kg\",4.99,1.90,\"Italien\"\n",
      "24100,\"Pumpernickel in der Folie 250g\",\"1Stück\",1.89,1.89,\"Deutschland\"\n",
      "33696,\"Grillkäse mediterran\",\"1Stück\",4.45,4.45,\"Deutschland\"\n",
      "39540,\"Feine weiße Bratwurst\",\"0,398kg\",19.95,7.94,\"Baden-Württemberg\"\n",
      "23801,\"Oliven Seele\",\"2Stück\",1.37,2.74,\"Baden-Württemberg\"\n",
      "25012,\"Baguette mit Zwiebeln\",\"1Stück\",2.73,2.73,\"Baden-Württemberg\"\n",
      "26122,\"MONATSSÜßES Blätte Schoko-Bana\",\"1Stück\",2.05,2.05,\"Baden-Württem\"\n",
      "-,-,\"Kistenpfand Stuttgart\",-4.00,-4.00,\"Pst Pfandbuchung\"\n",
      "-,-,\"Isokistenpfand\",-10.00,-10.00,\"Pst Pfandbuchung\"\n"
     ]
    }
   ],
   "source": [
    "print(*output_parser.parse(result['text']))"
   ]
  },
  {
   "cell_type": "code",
   "execution_count": 155,
   "metadata": {},
   "outputs": [],
   "source": [
    "from io import StringIO\n",
    "import pandas as pd\n",
    "\n",
    "TESTDATA = StringIO(''.join(output_parser.parse(result['text'])))\n",
    "df = pd.read_csv(TESTDATA, names=['artikel_id', 'artikel_name', 'anzahl', 'preis_pro_menge', 'gesamtpreis', 'herkunft'])"
   ]
  },
  {
   "cell_type": "code",
   "execution_count": 156,
   "metadata": {},
   "outputs": [],
   "source": [
    "from langchain.agents import create_pandas_dataframe_agent\n",
    "\n",
    "agent = create_pandas_dataframe_agent(ChatOpenAI(temperature=0), df, verbose=True)"
   ]
  },
  {
   "cell_type": "code",
   "execution_count": 157,
   "metadata": {},
   "outputs": [
    {
     "name": "stdout",
     "output_type": "stream",
     "text": [
      "\n",
      "\n",
      "\u001b[1m> Entering new AgentExecutor chain...\u001b[0m\n",
      "\u001b[32;1m\u001b[1;3mThought: To find the sum of the gesamtpreis column, I can use the `sum()` function in pandas.\n",
      "\n",
      "Action: python_repl_ast\n",
      "Action Input: df['gesamtpreis'].sum()\u001b[0m\n",
      "Observation: \u001b[36;1m\u001b[1;3m28.909999999999997\u001b[0m\n",
      "Thought:\u001b[32;1m\u001b[1;3mThe sum of the gesamtpreis column is 28.91.\n",
      "Final Answer: 28.91\u001b[0m\n",
      "\n",
      "\u001b[1m> Finished chain.\u001b[0m\n"
     ]
    },
    {
     "data": {
      "text/plain": [
       "'28.91'"
      ]
     },
     "execution_count": 157,
     "metadata": {},
     "output_type": "execute_result"
    }
   ],
   "source": [
    "agent.run(\"was ist die summe des gesamtpreises?\")"
   ]
  },
  {
   "cell_type": "code",
   "execution_count": 161,
   "metadata": {},
   "outputs": [
    {
     "name": "stdout",
     "output_type": "stream",
     "text": [
      "\n",
      "\n",
      "\u001b[1m> Entering new AgentExecutor chain...\u001b[0m\n",
      "\u001b[32;1m\u001b[1;3mThought: To determine the number of pfandbuchungen, I need to check if the column \"herkunft\" contains the word \"Pfand\".\n",
      "\n",
      "Action: python_repl_ast\n",
      "Action Input: df[\"herkunft\"].str.contains(\"Pfand\").sum()\u001b[0m\n",
      "Observation: \u001b[36;1m\u001b[1;3m2\u001b[0m\n",
      "Thought:\u001b[32;1m\u001b[1;3mThere are 2 pfandbuchungen in the dataframe.\n",
      "Final Answer: 2\u001b[0m\n",
      "\n",
      "\u001b[1m> Finished chain.\u001b[0m\n"
     ]
    },
    {
     "data": {
      "text/plain": [
       "'2'"
      ]
     },
     "execution_count": 161,
     "metadata": {},
     "output_type": "execute_result"
    }
   ],
   "source": [
    "agent.run('wie viele pfandbuchungen gab es?')"
   ]
  },
  {
   "cell_type": "code",
   "execution_count": 162,
   "metadata": {},
   "outputs": [
    {
     "name": "stdout",
     "output_type": "stream",
     "text": [
      "\n",
      "\n",
      "\u001b[1m> Entering new AgentExecutor chain...\u001b[0m\n",
      "\u001b[32;1m\u001b[1;3mThought: To find the item with the highest total price, I need to sort the dataframe by the \"gesamtpreis\" column in descending order and then select the first row.\n",
      "\n",
      "Action: python_repl_ast\n",
      "Action Input: df.sort_values('gesamtpreis', ascending=False).head(1)\u001b[0m\n",
      "Observation: \u001b[36;1m\u001b[1;3m   artikel_id           artikel_name   anzahl  preis_pro_menge  gesamtpreis  \\\n",
      "13      39540  Feine weiße Bratwurst  0,398kg            19.95         7.94   \n",
      "\n",
      "             herkunft  \n",
      "13  Baden-Württemberg  \u001b[0m\n",
      "Thought:\u001b[32;1m\u001b[1;3mThe item with the highest total price is \"Feine weiße Bratwurst\" from Baden-Württemberg.\n",
      "\n",
      "Final Answer: Feine weiße Bratwurst\u001b[0m\n",
      "\n",
      "\u001b[1m> Finished chain.\u001b[0m\n"
     ]
    },
    {
     "data": {
      "text/plain": [
       "'Feine weiße Bratwurst'"
      ]
     },
     "execution_count": 162,
     "metadata": {},
     "output_type": "execute_result"
    }
   ],
   "source": [
    "agent.run('was war am teuersten im gesamtpreis?')"
   ]
  }
 ],
 "metadata": {
  "kernelspec": {
   "display_name": "venv",
   "language": "python",
   "name": "python3"
  },
  "language_info": {
   "codemirror_mode": {
    "name": "ipython",
    "version": 3
   },
   "file_extension": ".py",
   "mimetype": "text/x-python",
   "name": "python",
   "nbconvert_exporter": "python",
   "pygments_lexer": "ipython3",
   "version": "3.10.12"
  },
  "orig_nbformat": 4
 },
 "nbformat": 4,
 "nbformat_minor": 2
}
